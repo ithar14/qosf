{
 "cells": [
  {
   "cell_type": "markdown",
   "id": "803a82c5-a716-4503-8668-8fae24d2cf6a",
   "metadata": {},
   "source": [
    "# Task 1 \n",
    "\n",
    "## Table of Contents\n",
    "1. [Steps](#steps)\n",
    "2. [Grover’s Search algorithm](#grover)\n",
    "3. [Bonus](#bonus)\n",
    "--------------------------------------------"
   ]
  },
  {
   "cell_type": "markdown",
   "id": "aa110f76-9d9b-4af1-a52b-1e161c70796f",
   "metadata": {},
   "source": [
    "<a name=\"steps\"></a>\n",
    "1. [an array of integers as input](#s1)\n",
    "```\n",
    "        v = [1,5,7,10]\n",
    "```\n",
    "2. [pass them to a binary representation ](#s2)\n",
    "```\n",
    "        1 ==> 0001  //|00>\n",
    "        5 ==> 0101  //|01>\n",
    "        7 ==> 0111  //|10>\n",
    "        10 ==> 1010 //|11>\n",
    "```\n",
    "3. [find the integers with binary representation such that two adjacent bits are different  ](#s3)\n",
    "```\n",
    "        5 ==> 0101\n",
    "        10 ==> 1010\n",
    "```\n",
    "4. [output a superposition of states where each state is a binary representation of the indices of those integers](#s4)\n",
    "```\n",
    "        1/sqrt(2) * (|01> + |11>)\n",
    "```"
   ]
  },
  {
   "cell_type": "code",
   "execution_count": 1,
   "id": "4087d709-6f0e-4dcf-8814-7853a931b796",
   "metadata": {},
   "outputs": [],
   "source": [
    "import numpy as np\n",
    "import random\n",
    "\n",
    "# Importing standard Qiskit libraries\n",
    "from qiskit import *\n",
    "from qiskit import QuantumCircuit, transpile, Aer, IBMQ\n",
    "from qiskit.tools.jupyter import *\n",
    "from qiskit.visualization import *\n",
    "from ibm_quantum_widgets import *"
   ]
  },
  {
   "cell_type": "markdown",
   "id": "87666ef8-e9cd-4ed0-a051-2c50eccdd9f6",
   "metadata": {},
   "source": [
    "#### 1- vector = [1,5,7,10] <a name=\"s1\"></a>\n"
   ]
  },
  {
   "cell_type": "code",
   "execution_count": 2,
   "id": "2e5afaa0-8874-42da-a3d6-8e621e7160de",
   "metadata": {},
   "outputs": [],
   "source": [
    "vec = [1,5,7,10]\n",
    "n = int(len(vec)/2) #Size of the vector 2^n"
   ]
  },
  {
   "cell_type": "code",
   "execution_count": 3,
   "id": "12310564-6393-4f7b-af3b-abc812dad0d1",
   "metadata": {},
   "outputs": [
    {
     "name": "stdout",
     "output_type": "stream",
     "text": [
      "max bit-length : 4\n"
     ]
    }
   ],
   "source": [
    "# maxbitLength m\n",
    "def MaxbitLength(vector) : \n",
    "    maxbitLength=(max(vector)).bit_length()\n",
    "    print(\"max bit-length :\",maxbitLength)\n",
    "    return maxbitLength\n",
    "maxbitLength = MaxbitLength(vec)"
   ]
  },
  {
   "cell_type": "markdown",
   "id": "f2716643-f1b3-4731-8b3e-406f456e0e07",
   "metadata": {},
   "source": [
    "#### 2- binary representation <a name=\"s2\"></a>"
   ]
  },
  {
   "cell_type": "code",
   "execution_count": 4,
   "id": "abd66ce2-f6cc-46e6-ac95-e4832c4b3530",
   "metadata": {},
   "outputs": [
    {
     "name": "stdout",
     "output_type": "stream",
     "text": [
      "1 index 0 ==> 0001\n",
      "5 index 1 ==> 0101\n",
      "7 index 2 ==> 0111\n",
      "10 index 3 ==> 1010\n"
     ]
    }
   ],
   "source": [
    "# convert int to bit string\n",
    "def Binary(vector):\n",
    "    '''\n",
    "    a function that gives the binary reperesentation\n",
    "    \n",
    "    Parameters:\n",
    "        vector (list) : input of number list \n",
    "    Returns:\n",
    "        Bin (list) : binary reperesentation of each number with a length of \"maxbitLength\"\n",
    "    '''\n",
    "    Bin = []\n",
    "    for i in range(len(vector)):\n",
    "        Bin.append(np.binary_repr(vector[i], width=maxbitLength))\n",
    "        print(vec[i],\"index\",i,\"==>\",Bin[i])\n",
    "    return Bin\n",
    "\n",
    "Bin = Binary(vec)"
   ]
  },
  {
   "cell_type": "markdown",
   "id": "a17c8764-9e78-4f93-b9e1-2c14b2d17aba",
   "metadata": {},
   "source": [
    "method2 : binary with qiskit( decimal_to_binary() )"
   ]
  },
  {
   "cell_type": "code",
   "execution_count": 6,
   "id": "9e5d6af0-e006-44de-9aee-dbb2b2666090",
   "metadata": {},
   "outputs": [
    {
     "name": "stdout",
     "output_type": "stream",
     "text": [
      "list of bits ['1.', '101.', '111.', '1010.']\n"
     ]
    }
   ],
   "source": [
    "from qiskit.aqua.utils import decimal_to_binary\n",
    "\n",
    "v = [1,5,7,10]\n",
    "b = []\n",
    "\n",
    "for i in range(len(vec)):\n",
    "    b.append(decimal_to_binary(vec[i], max_num_digits=0, fractional_part_only=False))\n",
    "print(\"list of bits\",b)"
   ]
  },
  {
   "cell_type": "markdown",
   "id": "602d9e53-5ac6-4d92-8f8f-b40986163be3",
   "metadata": {},
   "source": [
    "#### 3- find the integers with binary representation such that two adjacent bits are different <a name=\"s3\"></a>"
   ]
  },
  {
   "cell_type": "code",
   "execution_count": 7,
   "id": "922b0d91-dfe8-4a55-bdb9-c5806420c6d6",
   "metadata": {},
   "outputs": [
    {
     "name": "stdout",
     "output_type": "stream",
     "text": [
      "5 has alternating set bit\n",
      "10 has alternating set bit\n"
     ]
    }
   ],
   "source": [
    "def alternatingBitset(vector):\n",
    "    '''\n",
    "    a function that gives the binary reperesentation\n",
    "    \n",
    "    Parameters:\n",
    "        vector (list) : input of number list \n",
    "    Returns:\n",
    "        Alternating_bits (list) : a list of alternating set bit \n",
    "    '''\n",
    "    Alternating_bits =[]\n",
    "    \n",
    "    for i in range(len(vector)):\n",
    "        alternating_bit= vector[i]^(vector[i]>>1)  #will produce a number with set bits only ex :1111.\n",
    "        bit_set = (alternating_bit + 1) & alternating_bit #  == 0, if all bits are set\n",
    "        if bit_set == 0 and vector[i]>1:\n",
    "            num = np.binary_repr(vector[i], width=maxbitLength)\n",
    "            Alternating_bits.append(num)\n",
    "            print(vector[i],\"has alternating set bit\")\n",
    "            \n",
    "    if type(Alternating_bits) ==\"NoneType\":\n",
    "        return print(\"None\")\n",
    "    return Alternating_bits\n",
    "\n",
    "Alternating_bits = alternatingBitset(vec)"
   ]
  },
  {
   "cell_type": "markdown",
   "id": "f53ad36c-7ceb-4b42-a619-3d0d1bbaceb6",
   "metadata": {},
   "source": [
    "```\n",
    "alternating set  bit :\n",
    "\n",
    "n= 10\n",
    "n>>1 #bit shift ==> 101\n",
    "n^(n>>1) # ==> 111\n",
    "(n^n>>1) +1) & (n^(n>>1) ==> 0 for alternating bit\n",
    "\n",
    "or\n",
    "(10 >> 1)& 10 # 101 & 1010 ==> 0\n",
    "```"
   ]
  },
  {
   "cell_type": "markdown",
   "id": "e5ba4839-75bb-4a98-8c42-400f563fada2",
   "metadata": {},
   "source": [
    "* indices of the binary alternating set bit"
   ]
  },
  {
   "cell_type": "code",
   "execution_count": 8,
   "id": "061a188e-dd43-414c-b82b-1cad73254cf0",
   "metadata": {},
   "outputs": [
    {
     "name": "stdout",
     "output_type": "stream",
     "text": [
      "alternating set bit index  [1, 3]\n"
     ]
    }
   ],
   "source": [
    "def index(alternating) :\n",
    "    '''\n",
    "    a function that outputs the index of the binary alternating set bit \n",
    "    number representation in the original vector\n",
    "    \n",
    "    Parameters:\n",
    "        alternating (list) : a list of alternating set bit  \n",
    "    Returns:\n",
    "        indices (list) : index index of alternating set bit in \n",
    "                         the vector\n",
    "    '''\n",
    "    indices = []\n",
    "    for i in range(len(alternating)):\n",
    "        x = Bin.index(alternating[i])\n",
    "        indices.append(x)\n",
    "    print(\"alternating set bit index \",indices)\n",
    "    return indices\n",
    "indices = index(Alternating_bits)"
   ]
  },
  {
   "cell_type": "markdown",
   "id": "887e4211-6b1d-4084-99dc-9d9b8eee51ae",
   "metadata": {},
   "source": [
    "#### 4- output a superposition of states where each state is a binary representation of the indices of those integers <a name=\"s4\"></a>"
   ]
  },
  {
   "cell_type": "code",
   "execution_count": 9,
   "id": "b22050d6-9e7d-44d1-bb63-b4ce341c24ab",
   "metadata": {},
   "outputs": [
    {
     "name": "stdout",
     "output_type": "stream",
     "text": [
      "[0.         0.70710678 0.         0.70710678]\n"
     ]
    }
   ],
   "source": [
    "#Define initial_state with the target solution in superposition\n",
    "initial_state = np.zeros( shape = (2**n) )\n",
    "\n",
    "for i in range(len(vec)):\n",
    "    for j in range(len(indices)):\n",
    "        if i == int(indices[j]):\n",
    "            initial_state[i] = 1/np.sqrt(2)\n",
    "            \n",
    "print(initial_state)"
   ]
  },
  {
   "cell_type": "code",
   "execution_count": 10,
   "id": "7d39a81b-18a6-4b7d-b7ce-9c53f3b50d52",
   "metadata": {},
   "outputs": [
    {
     "name": "stdout",
     "output_type": "stream",
     "text": [
      "[0.        +0.j 0.70710678+0.j 0.        +0.j 0.70710678+0.j]\n"
     ]
    },
    {
     "data": {
      "image/png": "[encoded data removed]",
      "text/plain": [
       "<Figure size 504x360 with 1 Axes>"
      ]
     },
     "execution_count": 10,
     "metadata": {},
     "output_type": "execute_result"
    }
   ],
   "source": [
    "sim = Aer.get_backend('aer_simulator')\n",
    "\n",
    "# Quantum Circuit\n",
    "num_qubits = n\n",
    "qc = QuantumCircuit(num_qubits) \n",
    "qc.initialize(initial_state, qc.qubits) \n",
    "qc.save_statevector() \n",
    "\n",
    "#run on local simulator\n",
    "\n",
    "job = sim.run(qc)\n",
    "state = job.result().get_statevector() \n",
    "\n",
    "print(state) \n",
    "\n",
    "#result\n",
    "result = job.result().get_counts()\n",
    "plot_histogram(result)"
   ]
  },
  {
   "cell_type": "code",
   "execution_count": 11,
   "id": "e172f388-3c2a-4fad-8f32-d6fcea62390b",
   "metadata": {},
   "outputs": [
    {
     "data": {
      "image/png": "[encoded data removed]",
      "text/plain": [
       "<Figure size 387.452x144.48 with 1 Axes>"
      ]
     },
     "execution_count": 11,
     "metadata": {},
     "output_type": "execute_result"
    }
   ],
   "source": [
    "qc.decompose().draw()"
   ]
  },
  {
   "cell_type": "code",
   "execution_count": null,
   "id": "360f3411-7a4d-43c3-873c-15d3f0267675",
   "metadata": {},
   "outputs": [],
   "source": [
    "\"\"\"\n",
    "from qiskit import IBMQ\n",
    "IBMQ.load_account()\n",
    "\n",
    "device = provider.get_backend('ibmq_qasm_simulator')\n",
    "qobj = assemble(qc)\n",
    "result = device.run(qobj).result().get_counts()\n",
    "plot_histogram(result)\n",
    "\"\"\""
   ]
  },
  {
   "cell_type": "markdown",
   "id": "76bbaae7-a2e7-4243-8209-5473649b9af8",
   "metadata": {},
   "source": [
    "# -------------------------------------------------------------------"
   ]
  },
  {
   "cell_type": "markdown",
   "id": "7f568f85-6ad0-4ad4-a027-2ed65ad9dd4f",
   "metadata": {},
   "source": [
    "\n",
    "### [Grover’s Search algorithm ](https://qiskit.org/documentation/stubs/qiskit.aqua.algorithms.Grover.html?highlight=grover#qiskit.aqua.algorithms.Grover) <a name=\"grover\"></a>\n",
    "\n",
    "#### 1- specify the oracle of Grover Search with Statevector from Indices of the solution"
   ]
  },
  {
   "cell_type": "code",
   "execution_count": 12,
   "id": "46fd47e9-2d68-4fa0-af8d-7c21e07646b7",
   "metadata": {},
   "outputs": [
    {
     "name": "stderr",
     "output_type": "stream",
     "text": [
      "/opt/conda/lib/python3.8/site-packages/qiskit/aqua/algorithms/amplitude_amplifiers/grover.py:215: DeprecationWarning: The package qiskit.aqua.algorithms.amplitude_amplifiers is deprecated. It was moved/refactored to qiskit.algorithms.amplitude_amplifiers (pip install qiskit-terra). For more information see <https://github.com/Qiskit/qiskit-aqua/blob/main/README.md#migration-guide>\n",
      "  warn_package('aqua.algorithms.amplitude_amplifiers',\n",
      "/opt/conda/lib/python3.8/site-packages/qiskit/aqua/quantum_instance.py:135: DeprecationWarning: The class qiskit.aqua.QuantumInstance is deprecated. It was moved/refactored to qiskit.utils.QuantumInstance (pip install qiskit-terra). For more information see <https://github.com/Qiskit/qiskit-aqua/blob/main/README.md#migration-guide>\n",
      "  warn_class('aqua.QuantumInstance',\n"
     ]
    },
    {
     "data": {
      "image/png": "[encoded data removed]",
      "text/plain": [
       "<Figure size 504x360 with 1 Axes>"
      ]
     },
     "execution_count": 12,
     "metadata": {},
     "output_type": "execute_result"
    }
   ],
   "source": [
    "from qiskit.quantum_info import Statevector\n",
    "from qiskit.aqua.algorithms import Grover\n",
    "from qiskit.utils import QuantumInstance\n",
    "\n",
    "oracle = Statevector.from_int(indices,dims=2**n)\n",
    "good_state = indices\n",
    "\n",
    "grover = Grover(oracle=oracle, good_state=good_state)\n",
    "\n",
    "backend = BasicAer.get_backend('qasm_simulator')\n",
    "result = grover.run(quantum_instance=backend)\n",
    "\n",
    "plot_histogram(result.measurement, title=\"2 qubits\")"
   ]
  },
  {
   "cell_type": "code",
   "execution_count": 13,
   "id": "fcd6aba3-0165-4224-b7f3-dab4c0318e39",
   "metadata": {},
   "outputs": [
    {
     "data": {
      "image/png": "[encoded data removed]",
      "text/plain": [
       "<Figure size 504x360 with 1 Axes>"
      ]
     },
     "execution_count": 13,
     "metadata": {},
     "output_type": "execute_result"
    }
   ],
   "source": [
    "# with 3 qubits ex: 01 shifted to 001\n",
    "oracle = Statevector.from_int(indices,dims=2**(n+1))\n",
    "good_state = indices\n",
    "\n",
    "grover = Grover(oracle=oracle, good_state=good_state)\n",
    "result = grover.run(quantum_instance=backend)\n",
    "\n",
    "plot_histogram(result.measurement, title=\"3 qubits\")"
   ]
  },
  {
   "cell_type": "markdown",
   "id": "464e6c7f-936a-49f2-9e80-8a2b676b1fc1",
   "metadata": {},
   "source": [
    "#### 2- Grover search with 01 and 11 marked solutions of the vector [1,5,7,10]"
   ]
  },
  {
   "cell_type": "code",
   "execution_count": 14,
   "id": "97baafeb-d37b-4c2f-9a49-50c26a6988b4",
   "metadata": {},
   "outputs": [],
   "source": [
    "vec = [1,5,7,10]\n",
    "\n",
    "num_qubits = 2 #2 qubits\n",
    "grover_circuit = QuantumCircuit(num_qubits )\n",
    "\n",
    "def initialize(qc, num_qubits):\n",
    "    'Apply a H-gate'\n",
    "    for q in range(num_qubits):\n",
    "        qc.h(q)\n",
    "    return qc\n",
    "\n",
    "grover_circuit = initialize(grover_circuit, num_qubits)"
   ]
  },
  {
   "cell_type": "code",
   "execution_count": 15,
   "id": "5840122e-496d-4eb4-a536-1935f028a1e9",
   "metadata": {},
   "outputs": [
    {
     "data": {
      "image/png": "[encoded data removed]",
      "text/plain": [
       "<Figure size 507.852x144.48 with 1 Axes>"
      ]
     },
     "execution_count": 15,
     "metadata": {},
     "output_type": "execute_result"
    }
   ],
   "source": [
    "# 01 and 11 marked solution\n",
    "grover_circuit.h(0)\n",
    "grover_circuit.cz(0, 1)\n",
    "\n",
    "grover_circuit.h(0)\n",
    "grover_circuit.h(1)\n",
    "grover_circuit.z(1)\n",
    "grover_circuit.z(0)\n",
    "grover_circuit.cz(0, 1)\n",
    "\n",
    "grover_circuit.h(0)\n",
    "grover_circuit.h(1)\n",
    "\n",
    "grover_circuit.draw()"
   ]
  },
  {
   "cell_type": "code",
   "execution_count": 16,
   "id": "a7bbb17c-96be-4d77-b028-c02fa2bd8bd0",
   "metadata": {},
   "outputs": [
    {
     "name": "stderr",
     "output_type": "stream",
     "text": [
      "/opt/conda/lib/python3.8/site-packages/qiskit/utils/deprecation.py:62: DeprecationWarning: Using a qobj for run() is deprecated as of qiskit-aer 0.9.0 and will be removed no sooner than 3 months from that release date. Transpiled circuits should now be passed directly using `backend.run(circuits, **run_options).\n",
      "  return func(*args, **kwargs)\n"
     ]
    },
    {
     "data": {
      "text/latex": [
       "$\\displaystyle \n",
       "$$ |\\psi\\rangle =\\begin{bmatrix}\n",
       "0 \\\\\n",
       "0.70711 \\\\\n",
       "0 \\\\\n",
       "0.70711\\end{bmatrix} $"
      ],
      "text/plain": [
       "<IPython.core.display.Math object>"
      ]
     },
     "metadata": {},
     "output_type": "display_data"
    }
   ],
   "source": [
    "sim = Aer.get_backend('aer_simulator')\n",
    "\n",
    "# state vector\n",
    "grover_circuit_sim = grover_circuit.copy()\n",
    "grover_circuit_sim.save_statevector()\n",
    "qobj = assemble(grover_circuit_sim)\n",
    "result = sim.run(qobj).result()\n",
    "statevec = result.get_statevector()\n",
    "\n",
    "from qiskit_textbook.tools import vector2latex\n",
    "vector2latex(statevec, pretext=\"|\\\\psi\\\\rangle =\")"
   ]
  },
  {
   "cell_type": "code",
   "execution_count": 17,
   "id": "d6d2e2dc-a506-45cd-bdf4-67ca2f504a5c",
   "metadata": {},
   "outputs": [
    {
     "data": {
      "image/png": "[encoded data removed]",
      "text/plain": [
       "<Figure size 504x360 with 1 Axes>"
      ]
     },
     "execution_count": 17,
     "metadata": {},
     "output_type": "execute_result"
    }
   ],
   "source": [
    "grover_circuit.measure_all()\n",
    "\n",
    "qobj = assemble(grover_circuit)\n",
    "result = sim.run(qobj).result()\n",
    "counts = result.get_counts()\n",
    "plot_histogram(counts)"
   ]
  },
  {
   "cell_type": "markdown",
   "id": "ab7f1754-d2f7-4d9f-9aec-636de8f2f99b",
   "metadata": {},
   "source": [
    "#### Test : display with top measurment the altenating set bit of 5 and 10"
   ]
  },
  {
   "cell_type": "code",
   "execution_count": 18,
   "id": "b03950a4-9b29-4970-8415-3dd47aa33840",
   "metadata": {},
   "outputs": [
    {
     "data": {
      "image/png": "[encoded data removed]",
      "text/plain": [
       "<Figure size 504x360 with 1 Axes>"
      ]
     },
     "execution_count": 18,
     "metadata": {},
     "output_type": "execute_result"
    }
   ],
   "source": [
    "oracle = Statevector.from_int([5,10],dims=2**4)\n",
    "good_state = [1]\n",
    "\n",
    "grover = Grover(oracle=oracle, good_state=good_state)\n",
    "\n",
    "backend = BasicAer.get_backend('qasm_simulator')\n",
    "result = grover.run(quantum_instance=backend)\n",
    "\n",
    "plot_histogram(result.measurement)"
   ]
  },
  {
   "cell_type": "markdown",
   "id": "a758f912-b607-4ab8-bc5f-78fde9863a7a",
   "metadata": {
    "tags": []
   },
   "source": [
    "### BONUS : create a random vector <a name=\"bonus\"></a>"
   ]
  },
  {
   "cell_type": "code",
   "execution_count": 19,
   "id": "7f7b2d4e-b9f0-40ff-bf2e-e80e1a8f59d3",
   "metadata": {},
   "outputs": [
    {
     "name": "stdout",
     "output_type": "stream",
     "text": [
      "[8, 10, 15, 7]\n",
      "max bit-length : 4\n",
      "8 index 0 ==> 1000\n",
      "10 index 1 ==> 1010\n",
      "15 index 2 ==> 1111\n",
      "7 index 3 ==> 0111\n",
      "10 has alternating set bit\n",
      "alternating set bit index  [1]\n"
     ]
    }
   ],
   "source": [
    "n = 2\n",
    "\n",
    "def createVector(n, start, stop):\n",
    "    '''\n",
    "    a function that creates a vector with unique numbers\n",
    "    \n",
    "    Parameters:\n",
    "        n(integer) : Size of the vector 2^n\n",
    "        start,stop (integer) :  start <= number <= stop\n",
    "    Returns:\n",
    "        vector (list)\n",
    "    '''\n",
    "    vector = []\n",
    "    num = random.randint(start, stop)\n",
    "    for i in range(2**n) :\n",
    "        # checks for unique numbers\n",
    "        while num in vector :\n",
    "            num = random.randint(start, stop)\n",
    "        vector.append(num)\n",
    "        \n",
    "    return vector\n",
    "\n",
    "vec = createVector(n, 3, 15)\n",
    "print(vec)\n",
    "maxbitLength = MaxbitLength(vec)\n",
    "Bin = Binary(vec)\n",
    "Alternating_bits = alternatingBitset(vec)\n",
    "indices = index(Alternating_bits)"
   ]
  },
  {
   "cell_type": "code",
   "execution_count": 20,
   "id": "92a750c5-8482-48f1-8635-a1bc0b1d793a",
   "metadata": {},
   "outputs": [],
   "source": [
    "def circuit (n,vector, indices):\n",
    "    initial_state = np.zeros( shape = (2**n) )\n",
    "\n",
    "    for i in range(len(vector)):\n",
    "        for j in range(len(indices)):\n",
    "            if i == int(indices[j]):\n",
    "                initial_state[i] = 1/np.sqrt(2)\n",
    "            \n",
    "    print(\"initial_state\",initial_state)\n",
    "    \n",
    "    sim = Aer.get_backend('aer_simulator')\n",
    "\n",
    "# Quantum Circuit\n",
    "    num_qubits = n\n",
    "    qc = QuantumCircuit(num_qubits) \n",
    "    qc.initialize(initial_state, qc.qubits) \n",
    "    qc.save_statevector() \n",
    "\n",
    "#run on local simulator\n",
    "    qobj = assemble(qc)\n",
    "    job = sim.run(qobj)\n",
    "    state = job.result().get_statevector() \n",
    "    \n",
    "    print(\"final state\",state) \n",
    "\n",
    "#result\n",
    "    result = job.result().get_counts()\n",
    "    return result"
   ]
  },
  {
   "cell_type": "code",
   "execution_count": 21,
   "id": "039ed160-206e-43d6-8738-ddeb902c347e",
   "metadata": {},
   "outputs": [
    {
     "name": "stdout",
     "output_type": "stream",
     "text": [
      "Check another vector with 2 integers alternating bits\n"
     ]
    },
    {
     "name": "stdin",
     "output_type": "stream",
     "text": [
      "Size of the vector 2^ 2\n",
      " 1\n",
      " 5\n",
      " 4\n",
      " 2\n"
     ]
    },
    {
     "name": "stdout",
     "output_type": "stream",
     "text": [
      "[1, 5, 4, 2]\n",
      "max bit-length : 3\n",
      "1 index 0 ==> 001\n",
      "5 index 1 ==> 101\n",
      "4 index 2 ==> 100\n",
      "2 index 3 ==> 010\n",
      "5 has alternating set bit\n",
      "2 has alternating set bit\n",
      "alternating set bit index  [1, 3]\n",
      "\n",
      "\n",
      "initial_state [0.         0.70710678 0.         0.70710678]\n",
      "final state [0.        +0.j 0.70710678+0.j 0.        +0.j 0.70710678+0.j]\n"
     ]
    }
   ],
   "source": [
    "if len(Alternating_bits)==2 :\n",
    "    circuit (n,vec, indices)\n",
    "else : \n",
    "    print(\"Check another vector with 2 integers alternating bits\")\n",
    "    \n",
    "    # input new vector\n",
    "    n = int(input(\"Size of the vector 2^\"))\n",
    "    vec = []\n",
    "    for i in range(0, 2**n):\n",
    "        num = int(input())\n",
    "        vec.append(num)\n",
    "    print(vec)\n",
    "    maxbitLength = MaxbitLength(vec)\n",
    "    Bin = Binary(vec)\n",
    "    Alternating_bits = alternatingBitset(vec)\n",
    "    indices = index(Alternating_bits)\n",
    "    print(\"\\n\")\n",
    "    circuit (n,vec, indices)"
   ]
  }
 ],
 "metadata": {
  "kernelspec": {
   "display_name": "Qiskit v0.30.0 (ipykernel)",
   "language": "python",
   "name": "python3"
  },
  "language_info": {
   "codemirror_mode": {
    "name": "ipython",
    "version": 3
   },
   "file_extension": ".py",
   "mimetype": "text/x-python",
   "name": "python",
   "nbconvert_exporter": "python",
   "pygments_lexer": "ipython3",
   "version": "3.8.10"
  },
  "widgets": {
   "application/vnd.jupyter.widget-state+json": {
    "state": {
     "021475fd10eb4e279d9c3c2291628c3a": {
      "model_module": "@jupyter-widgets/controls",
      "model_module_version": "1.5.0",
      "model_name": "HBoxModel",
      "state": {
       "children": [
        "IPY_MODEL_a81fc58e45084e95aa1c491f27cae802",
        "IPY_MODEL_b45146a784814aa9b1cb1d38175a2b6e",
        "IPY_MODEL_4b62a05a5779434dbc6805b1476749ee",
        "IPY_MODEL_a8cf64500710461fb1fc59967c7688f7",
        "IPY_MODEL_4b95702a20b94c5fb05a0e15ed4e474e"
       ],
       "layout": "IPY_MODEL_4e5421754e314d27b9d025a748bb3d59"
      }
     },
     "0b3731e7a1d7496581fc49f9ce34397a": {
      "model_module": "@jupyter-widgets/base",
      "model_module_version": "1.2.0",
      "model_name": "LayoutModel",
      "state": {
       "width": "145px"
      }
     },
     "0cb105562f0d43588c7b0460fc63f248": {
      "model_module": "@jupyter-widgets/base",
      "model_module_version": "1.2.0",
      "model_name": "LayoutModel",
      "state": {
       "grid_area": "right",
       "padding": "0px 0px 0px 0px",
       "width": "70px"
      }
     },
     "1bcfb96724eb4624a586c0fdd46e7940": {
      "model_module": "@jupyter-widgets/controls",
      "model_module_version": "1.5.0",
      "model_name": "DescriptionStyleModel",
      "state": {
       "description_width": ""
      }
     },
     "27f5b38db0d84235bca1ee2fb3b263d9": {
      "model_module": "@jupyter-widgets/base",
      "model_module_version": "1.2.0",
      "model_name": "LayoutModel",
      "state": {
       "width": "95px"
      }
     },
     "333837790bd34d5e9fe869fc52d620f6": {
      "model_module": "@jupyter-widgets/controls",
      "model_module_version": "1.5.0",
      "model_name": "DescriptionStyleModel",
      "state": {
       "description_width": ""
      }
     },
     "42368b75329c413aab8a6e71fa17024b": {
      "model_module": "@jupyter-widgets/base",
      "model_module_version": "1.2.0",
      "model_name": "LayoutModel",
      "state": {}
     },
     "4b62a05a5779434dbc6805b1476749ee": {
      "model_module": "@jupyter-widgets/controls",
      "model_module_version": "1.5.0",
      "model_name": "HTMLModel",
      "state": {
       "layout": "IPY_MODEL_27f5b38db0d84235bca1ee2fb3b263d9",
       "style": "IPY_MODEL_e863ddc66739460f973f28a5b831e97f",
       "value": "<h5>Status</h5>"
      }
     },
     "4b95702a20b94c5fb05a0e15ed4e474e": {
      "model_module": "@jupyter-widgets/controls",
      "model_module_version": "1.5.0",
      "model_name": "HTMLModel",
      "state": {
       "layout": "IPY_MODEL_42368b75329c413aab8a6e71fa17024b",
       "style": "IPY_MODEL_f70dac69f6384232aab86fe55a92fd94",
       "value": "<h5>Message</h5>"
      }
     },
     "4e5421754e314d27b9d025a748bb3d59": {
      "model_module": "@jupyter-widgets/base",
      "model_module_version": "1.2.0",
      "model_name": "LayoutModel",
      "state": {
       "margin": "0px 0px 0px 37px",
       "width": "600px"
      }
     },
     "8143a99767fc41c5bf05c450716191f2": {
      "model_module": "@jupyter-widgets/base",
      "model_module_version": "1.2.0",
      "model_name": "LayoutModel",
      "state": {
       "width": "70px"
      }
     },
     "8e8baaac2d1645ff87ad5481076098cc": {
      "model_module": "@jupyter-widgets/controls",
      "model_module_version": "1.5.0",
      "model_name": "ButtonStyleModel",
      "state": {}
     },
     "a81fc58e45084e95aa1c491f27cae802": {
      "model_module": "@jupyter-widgets/controls",
      "model_module_version": "1.5.0",
      "model_name": "HTMLModel",
      "state": {
       "layout": "IPY_MODEL_cffb37f706bd46adaaca82d875523d7e",
       "style": "IPY_MODEL_1bcfb96724eb4624a586c0fdd46e7940",
       "value": "<h5>Job ID</h5>"
      }
     },
     "a8cf64500710461fb1fc59967c7688f7": {
      "model_module": "@jupyter-widgets/controls",
      "model_module_version": "1.5.0",
      "model_name": "HTMLModel",
      "state": {
       "layout": "IPY_MODEL_8143a99767fc41c5bf05c450716191f2",
       "style": "IPY_MODEL_cec0707416f344d994482c1f152889a9",
       "value": "<h5>Queue</h5>"
      }
     },
     "abb19a0fb2f048009a67dbbee51f27a4": {
      "model_module": "@jupyter-widgets/base",
      "model_module_version": "1.2.0",
      "model_name": "LayoutModel",
      "state": {
       "grid_template_areas": "\n                                       \". . . . right \"\n                                        ",
       "grid_template_columns": "20% 20% 20% 20% 20%",
       "width": "100%"
      }
     },
     "b45146a784814aa9b1cb1d38175a2b6e": {
      "model_module": "@jupyter-widgets/controls",
      "model_module_version": "1.5.0",
      "model_name": "HTMLModel",
      "state": {
       "layout": "IPY_MODEL_0b3731e7a1d7496581fc49f9ce34397a",
       "style": "IPY_MODEL_f7c5eeda694d46d98e46bdd6805ef3f6",
       "value": "<h5>Backend</h5>"
      }
     },
     "ca2638e19ed14b0eaaea20d05b13a7e7": {
      "model_module": "@jupyter-widgets/base",
      "model_module_version": "1.2.0",
      "model_name": "LayoutModel",
      "state": {
       "margin": "0px 0px 10px 0px"
      }
     },
     "cec0707416f344d994482c1f152889a9": {
      "model_module": "@jupyter-widgets/controls",
      "model_module_version": "1.5.0",
      "model_name": "DescriptionStyleModel",
      "state": {
       "description_width": ""
      }
     },
     "cffb37f706bd46adaaca82d875523d7e": {
      "model_module": "@jupyter-widgets/base",
      "model_module_version": "1.2.0",
      "model_name": "LayoutModel",
      "state": {
       "width": "190px"
      }
     },
     "df9b8ffbb10d4a7090efeb9d761f814b": {
      "model_module": "@jupyter-widgets/controls",
      "model_module_version": "1.5.0",
      "model_name": "GridBoxModel",
      "state": {
       "children": [
        "IPY_MODEL_e37f14797ca04ee98d5b8b9b5f90146c"
       ],
       "layout": "IPY_MODEL_abb19a0fb2f048009a67dbbee51f27a4"
      }
     },
     "e2515200870040fb80b75d3ae79e6f81": {
      "model_module": "@jupyter-widgets/controls",
      "model_module_version": "1.5.0",
      "model_name": "HTMLModel",
      "state": {
       "layout": "IPY_MODEL_ca2638e19ed14b0eaaea20d05b13a7e7",
       "style": "IPY_MODEL_333837790bd34d5e9fe869fc52d620f6",
       "value": "<p style='font-family: IBM Plex Sans, Arial, Helvetica, sans-serif; font-size: 20px; font-weight: medium;'>Circuit Properties</p>"
      }
     },
     "e37f14797ca04ee98d5b8b9b5f90146c": {
      "model_module": "@jupyter-widgets/controls",
      "model_module_version": "1.5.0",
      "model_name": "ButtonModel",
      "state": {
       "button_style": "primary",
       "description": "Clear",
       "layout": "IPY_MODEL_0cb105562f0d43588c7b0460fc63f248",
       "style": "IPY_MODEL_8e8baaac2d1645ff87ad5481076098cc"
      }
     },
     "e863ddc66739460f973f28a5b831e97f": {
      "model_module": "@jupyter-widgets/controls",
      "model_module_version": "1.5.0",
      "model_name": "DescriptionStyleModel",
      "state": {
       "description_width": ""
      }
     },
     "f70dac69f6384232aab86fe55a92fd94": {
      "model_module": "@jupyter-widgets/controls",
      "model_module_version": "1.5.0",
      "model_name": "DescriptionStyleModel",
      "state": {
       "description_width": ""
      }
     },
     "f7c5eeda694d46d98e46bdd6805ef3f6": {
      "model_module": "@jupyter-widgets/controls",
      "model_module_version": "1.5.0",
      "model_name": "DescriptionStyleModel",
      "state": {
       "description_width": ""
      }
     }
    },
    "version_major": 2,
    "version_minor": 0
   }
  }
 },
 "nbformat": 4,
 "nbformat_minor": 5
}
